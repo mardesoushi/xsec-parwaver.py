{
 "cells": [
  {
   "attachments": {},
   "cell_type": "markdown",
   "metadata": {},
   "source": [
    "# Partial Wave Calculator\n",
    "\n",
    "This notebooks is intended to be just to test functions"
   ]
  },
  {
   "cell_type": "code",
   "execution_count": 1,
   "metadata": {},
   "outputs": [],
   "source": [
    "#!/usr/bin/pythonpy\n",
    "################################################################################\n",
    "# PYTHON's MODULAE\n",
    "# ------------------------------------------------------------------------------\n",
    "################################################################################\n",
    "import os\n",
    "import sys\n",
    "module_path = os.path.abspath(os.path.join('/lib/python3.10/site-packages'))\n",
    "if module_path not in sys.path:\n",
    "    sys.path.append(module_path)\n",
    "from operator import indexOf\n",
    "import sys\n",
    "import numpy as np\n",
    "from numpy import sqrt as sqrt\n",
    "from numpy import pi as pi\n",
    "import matplotlib.pyplot as plt\n",
    "from mpl_toolkits.axes_grid1 import ImageGrid\n",
    "import matplotlib.colorbar as colorb\n",
    "import functools\n",
    "import importlib\n",
    "## Saves the results for sigmaz locally\n",
    "import pickle\n",
    "import os\n",
    "from scipy.integrate import quad\n",
    "\n"
   ]
  },
  {
   "cell_type": "code",
   "execution_count": 1,
   "metadata": {},
   "outputs": [
    {
     "name": "stdout",
     "output_type": "stream",
     "text": [
      "hello there! :]\n"
     ]
    }
   ],
   "source": [
    "print('hello there! :]')"
   ]
  }
 ],
 "metadata": {
  "kernelspec": {
   "display_name": "Python 3",
   "language": "python",
   "name": "python3"
  },
  "language_info": {
   "codemirror_mode": {
    "name": "ipython",
    "version": 3
   },
   "file_extension": ".py",
   "mimetype": "text/x-python",
   "name": "python",
   "nbconvert_exporter": "python",
   "pygments_lexer": "ipython3",
   "version": "3.10.6"
  },
  "orig_nbformat": 4
 },
 "nbformat": 4,
 "nbformat_minor": 2
}
